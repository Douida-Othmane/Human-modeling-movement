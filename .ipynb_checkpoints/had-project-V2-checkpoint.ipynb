{
 "cells": [
  {
   "cell_type": "code",
   "execution_count": 1,
   "metadata": {
    "_cell_guid": "b1076dfc-b9ad-4769-8c92-a6c4dae69d19",
    "_uuid": "8f2839f25d086af736a60e9eeb907d3b93b6e0e5",
    "execution": {
     "iopub.execute_input": "2022-03-30T06:38:01.664393Z",
     "iopub.status.busy": "2022-03-30T06:38:01.663648Z",
     "iopub.status.idle": "2022-03-30T06:38:06.929482Z",
     "shell.execute_reply": "2022-03-30T06:38:06.928753Z",
     "shell.execute_reply.started": "2022-03-30T06:38:01.664302Z"
    }
   },
   "outputs": [
    {
     "ename": "ModuleNotFoundError",
     "evalue": "No module named 'numpy'",
     "output_type": "error",
     "traceback": [
      "\u001b[0;31m---------------------------------------------------------------------------\u001b[0m",
      "\u001b[0;31mModuleNotFoundError\u001b[0m                       Traceback (most recent call last)",
      "Input \u001b[0;32mIn [1]\u001b[0m, in \u001b[0;36m<cell line: 1>\u001b[0;34m()\u001b[0m\n\u001b[0;32m----> 1\u001b[0m \u001b[38;5;28;01mimport\u001b[39;00m \u001b[38;5;21;01mnumpy\u001b[39;00m \u001b[38;5;28;01mas\u001b[39;00m \u001b[38;5;21;01mnp\u001b[39;00m \u001b[38;5;66;03m# linear algebra\u001b[39;00m\n\u001b[1;32m      2\u001b[0m \u001b[38;5;28;01mimport\u001b[39;00m \u001b[38;5;21;01mpandas\u001b[39;00m \u001b[38;5;28;01mas\u001b[39;00m \u001b[38;5;21;01mpd\u001b[39;00m \n\u001b[1;32m      3\u001b[0m \u001b[38;5;28;01mimport\u001b[39;00m \u001b[38;5;21;01mseaborn\u001b[39;00m \u001b[38;5;28;01mas\u001b[39;00m \u001b[38;5;21;01msns\u001b[39;00m\n",
      "\u001b[0;31mModuleNotFoundError\u001b[0m: No module named 'numpy'"
     ]
    }
   ],
   "source": [
    "import numpy as np # linear algebra\n",
    "import pandas as pd \n",
    "import seaborn as sns\n",
    "from matplotlib import pyplot as plt\n",
    "#import coremltools\n",
    "\n",
    "from scipy import stats\n",
    "from IPython.display import display, HTML\n",
    "import os\n",
    "from sklearn import metrics\n",
    "from sklearn.metrics import classification_report\n",
    "from sklearn import preprocessing\n",
    "from sklearn.model_selection import train_test_split\n",
    "from sklearn.metrics import accuracy_score\n",
    "\n",
    "import keras\n",
    "from keras.models import Sequential\n",
    "from keras.layers import Dense, Dropout, Flatten, Reshape\n",
    "from keras.layers import Conv2D, MaxPooling2D, LSTM, ConvLSTM2D, ConvLSTM1D\n",
    "from keras.utils import np_utils"
   ]
  },
  {
   "cell_type": "markdown",
   "metadata": {},
   "source": [
    "# **Data reading**\n"
   ]
  },
  {
   "cell_type": "markdown",
   "metadata": {},
   "source": [
    "### **Phone and Watch Accelerometer data : Train/test**"
   ]
  },
  {
   "cell_type": "markdown",
   "metadata": {},
   "source": [
    "Note :\n",
    "The WISDM dataset should be in the same folder as this notebook so all the scripts will work succefully"
   ]
  },
  {
   "cell_type": "code",
   "execution_count": 2,
   "metadata": {},
   "outputs": [
    {
     "ename": "NameError",
     "evalue": "name 'pd' is not defined",
     "output_type": "error",
     "traceback": [
      "\u001b[0;31m---------------------------------------------------------------------------\u001b[0m",
      "\u001b[0;31mNameError\u001b[0m                                 Traceback (most recent call last)",
      "Input \u001b[0;32mIn [2]\u001b[0m, in \u001b[0;36m<cell line: 4>\u001b[0;34m()\u001b[0m\n\u001b[1;32m      1\u001b[0m columns\u001b[38;5;241m=\u001b[39m[\u001b[38;5;124m'\u001b[39m\u001b[38;5;124muser\u001b[39m\u001b[38;5;124m'\u001b[39m,\u001b[38;5;124m'\u001b[39m\u001b[38;5;124mactivity\u001b[39m\u001b[38;5;124m'\u001b[39m,\u001b[38;5;124m'\u001b[39m\u001b[38;5;124mtime\u001b[39m\u001b[38;5;124m'\u001b[39m,\u001b[38;5;124m'\u001b[39m\u001b[38;5;124mx\u001b[39m\u001b[38;5;124m'\u001b[39m,\u001b[38;5;124m'\u001b[39m\u001b[38;5;124my\u001b[39m\u001b[38;5;124m'\u001b[39m,\u001b[38;5;124m'\u001b[39m\u001b[38;5;124mz\u001b[39m\u001b[38;5;124m'\u001b[39m]\n\u001b[1;32m      3\u001b[0m \u001b[38;5;66;03m# Phone accel dataset importation\u001b[39;00m\n\u001b[0;32m----> 4\u001b[0m data_phone_accel_all \u001b[38;5;241m=\u001b[39m \u001b[43mpd\u001b[49m\u001b[38;5;241m.\u001b[39mDataFrame(data\u001b[38;5;241m=\u001b[39m\u001b[38;5;28;01mNone\u001b[39;00m,columns\u001b[38;5;241m=\u001b[39mcolumns)\n\u001b[1;32m      5\u001b[0m \u001b[38;5;28mprint\u001b[39m(\u001b[38;5;124m\"\u001b[39m\u001b[38;5;124mReading Phone Accel data ...\u001b[39m\u001b[38;5;124m\"\u001b[39m)\n\u001b[1;32m      6\u001b[0m \u001b[38;5;28;01mfor\u001b[39;00m dirname, _, filenames \u001b[38;5;129;01min\u001b[39;00m os\u001b[38;5;241m.\u001b[39mwalk(\u001b[38;5;124mr\u001b[39m\u001b[38;5;124m'\u001b[39m\u001b[38;5;124mwisdm-dataset\u001b[39m\u001b[38;5;124m\\\u001b[39m\u001b[38;5;124mraw\u001b[39m\u001b[38;5;124m\\\u001b[39m\u001b[38;5;124mphone\u001b[39m\u001b[38;5;124m\\\u001b[39m\u001b[38;5;124maccel\u001b[39m\u001b[38;5;124m'\u001b[39m):\n",
      "\u001b[0;31mNameError\u001b[0m: name 'pd' is not defined"
     ]
    }
   ],
   "source": [
    "columns=['user','activity','time','x','y','z']\n",
    "\n",
    "# Phone accel dataset importation\n",
    "data_phone_accel_all = pd.DataFrame(data=None,columns=columns)\n",
    "print(\"Reading Phone Accel data ...\")\n",
    "for dirname, _, filenames in os.walk(r'wisdm-dataset\\raw\\phone\\accel'):\n",
    "    for filename in filenames[1:]:\n",
    "        df = pd.read_csv(f\"wisdm-dataset/raw/phone/accel/{filename}\" , sep=\",\", header=None)\n",
    "        temp=pd.DataFrame(data=df.values, columns=columns)\n",
    "        data_phone_accel_all=pd.concat([data_phone_accel_all,temp])\n",
    "# Make all the data in an appropriate format\n",
    "data_phone_accel_all['z'] = data_phone_accel_all['z'].str.replace(';','')\n",
    "data_phone_accel_all['activity'].value_counts()\n",
    "data_phone_accel_all['x']=data_phone_accel_all['x'].astype('float')\n",
    "data_phone_accel_all['y']=data_phone_accel_all['y'].astype('float')\n",
    "data_phone_accel_all['z']=data_phone_accel_all['z'].astype('float')\n",
    "\n",
    "\n",
    "# Watch accel dataset importation\n",
    "data_watch_accel_all = pd.DataFrame(data=None,columns=columns)\n",
    "print(\"\\nReading Watch Accel data ...\")\n",
    "for dirname, _, filenames in os.walk(r'wisdm-dataset\\raw\\watch\\accel'):\n",
    "    for filename in filenames[1:]:\n",
    "        df = pd.read_csv(f'wisdm-dataset/raw/watch/accel/{filename}' , sep=\",\", header=None)\n",
    "        temp=pd.DataFrame(data=df.values, columns=columns)\n",
    "        data_watch_accel_all=pd.concat([data_watch_accel_all,temp])\n",
    "# Make all the data in an appropriate format\n",
    "data_watch_accel_all['z'] = data_watch_accel_all['z'].str.replace(';','')\n",
    "data_watch_accel_all['x']=data_watch_accel_all['x'].astype('float')\n",
    "data_watch_accel_all['y']=data_watch_accel_all['y'].astype('float')\n",
    "data_watch_accel_all['z']=data_watch_accel_all['z'].astype('float')"
   ]
  },
  {
   "cell_type": "code",
   "execution_count": null,
   "metadata": {},
   "outputs": [],
   "source": []
  }
 ],
 "metadata": {
  "kernelspec": {
   "display_name": "Python 3 (ipykernel)",
   "language": "python",
   "name": "python3"
  },
  "language_info": {
   "codemirror_mode": {
    "name": "ipython",
    "version": 3
   },
   "file_extension": ".py",
   "mimetype": "text/x-python",
   "name": "python",
   "nbconvert_exporter": "python",
   "pygments_lexer": "ipython3",
   "version": "3.8.10"
  }
 },
 "nbformat": 4,
 "nbformat_minor": 4
}
