{
 "cells": [
  {
   "cell_type": "code",
   "execution_count": null,
   "id": "1d204314",
   "metadata": {},
   "outputs": [],
   "source": [
    "# columns=['user','activity','time','x','y','z']\n",
    "\n",
    "# Phone accel dataset importation\n",
    "data_phone_accel_all = pd.DataFrame(data=None,columns=columns)\n",
    "print(\"Reading Phone Accel data ...\")\n",
    "for dirname, _, filenames in os.walk(r'wisdm-dataset\\raw\\phone\\accel'):\n",
    "    for filename in filenames[1:]:\n",
    "        df = pd.read_csv(f\"wisdm-dataset/raw/phone/accel/{filename}\" , sep=\",\", header=None)\n",
    "        temp=pd.DataFrame(data=df.values, columns=columns)\n",
    "        data_phone_accel_all=pd.concat([data_phone_accel_all,temp])\n",
    "# Make all the data in an appropriate format\n",
    "data_phone_accel_all['z'] = data_phone_accel_all['z'].str.replace(';','')\n",
    "data_phone_accel_all['activity'].value_counts()\n",
    "data_phone_accel_all['x']=data_phone_accel_all['x'].astype('float')\n",
    "data_phone_accel_all['y']=data_phone_accel_all['y'].astype('float')\n",
    "data_phone_accel_all['z']=data_phone_accel_all['z'].astype('float')\n",
    "\n",
    "\n",
    "# Watch accel dataset importation\n",
    "data_watch_accel_all = pd.DataFrame(data=None,columns=columns)\n",
    "print(\"\\nReading Watch Accel data ...\")\n",
    "for dirname, _, filenames in os.walk(r'wisdm-dataset\\raw\\watch\\accel'):\n",
    "    for filename in filenames[1:]:\n",
    "        df = pd.read_csv(f'wisdm-dataset/raw/watch/accel/{filename}' , sep=\",\", header=None)\n",
    "        temp=pd.DataFrame(data=df.values, columns=columns)\n",
    "        data_watch_accel_all=pd.concat([data_watch_accel_all,temp])\n",
    "# Make all the data in an appropriate format\n",
    "data_watch_accel_all['z'] = data_watch_accel_all['z'].str.replace(';','')\n",
    "data_watch_accel_all['x']=data_watch_accel_all['x'].astype('float')\n",
    "data_watch_accel_all['y']=data_watch_accel_all['y'].astype('float')\n",
    "data_watch_accel_all['z']=data_watch_accel_all['z'].astype('float')"
   ]
  }
 ],
 "metadata": {
  "kernelspec": {
   "display_name": "Python 3 (ipykernel)",
   "language": "python",
   "name": "python3"
  },
  "language_info": {
   "codemirror_mode": {
    "name": "ipython",
    "version": 3
   },
   "file_extension": ".py",
   "mimetype": "text/x-python",
   "name": "python",
   "nbconvert_exporter": "python",
   "pygments_lexer": "ipython3",
   "version": "3.9.12"
  }
 },
 "nbformat": 4,
 "nbformat_minor": 5
}
